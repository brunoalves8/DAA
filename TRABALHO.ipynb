{
 "cells": [
  {
   "cell_type": "code",
   "execution_count": 1,
   "id": "657d7213",
   "metadata": {},
   "outputs": [],
   "source": [
    "import pandas as pd\n",
    "import numpy as np\n",
    "import matplotlib.pyplot as plt\n",
    "import seaborn as sns\n",
    "%matplotlib inline"
   ]
  },
  {
   "cell_type": "code",
   "execution_count": 2,
   "id": "0b6d771a",
   "metadata": {},
   "outputs": [],
   "source": [
    "#Load CSV´s\n",
    "DShippo = pd.read_csv(\"datasets/train_radiomics_hipocamp.csv\")\n",
    "test_DShippo = pd.read_csv(\"datasets/test_radiomics_hipocamp.csv\")"
   ]
  }
 ],
 "metadata": {
  "kernelspec": {
   "display_name": "mypython3version",
   "language": "python",
   "name": "python3"
  },
  "language_info": {
   "codemirror_mode": {
    "name": "ipython",
    "version": 3
   },
   "file_extension": ".py",
   "mimetype": "text/x-python",
   "name": "python",
   "nbconvert_exporter": "python",
   "pygments_lexer": "ipython3",
   "version": "3.12.3"
  }
 },
 "nbformat": 4,
 "nbformat_minor": 5
}
